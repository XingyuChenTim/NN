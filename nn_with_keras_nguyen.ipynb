{
 "cells": [
  {
   "cell_type": "markdown",
   "id": "02796ecf-9b2c-4a7e-ac16-e9ab931d6f87",
   "metadata": {},
   "source": [
    "# Predict Cell Phone Price Ranges"
   ]
  },
  {
   "cell_type": "markdown",
   "id": "73551c27-a95c-499a-ae0a-e0b61f0ab508",
   "metadata": {
    "tags": []
   },
   "source": [
    "## 1. Load and Preprocess Data"
   ]
  },
  {
   "cell_type": "code",
   "execution_count": 10,
   "id": "cd213611-a54f-40a8-b35f-ce6d3894c46a",
   "metadata": {
    "pycharm": {
     "is_executing": true
    },
    "tags": []
   },
   "outputs": [],
   "source": [
    "import pandas as pd\n",
    "df = pd.read_csv('train.csv')"
   ]
  },
  {
   "cell_type": "code",
   "execution_count": 11,
   "id": "027804b7-ef76-4a7e-b505-4950d16da081",
   "metadata": {
    "tags": []
   },
   "outputs": [
    {
     "data": {
      "text/html": [
       "<div>\n",
       "<style scoped>\n",
       "    .dataframe tbody tr th:only-of-type {\n",
       "        vertical-align: middle;\n",
       "    }\n",
       "\n",
       "    .dataframe tbody tr th {\n",
       "        vertical-align: top;\n",
       "    }\n",
       "\n",
       "    .dataframe thead th {\n",
       "        text-align: right;\n",
       "    }\n",
       "</style>\n",
       "<table border=\"1\" class=\"dataframe\">\n",
       "  <thead>\n",
       "    <tr style=\"text-align: right;\">\n",
       "      <th></th>\n",
       "      <th>battery_power</th>\n",
       "      <th>blue</th>\n",
       "      <th>clock_speed</th>\n",
       "      <th>dual_sim</th>\n",
       "      <th>fc</th>\n",
       "      <th>four_g</th>\n",
       "      <th>int_memory</th>\n",
       "      <th>m_dep</th>\n",
       "      <th>mobile_wt</th>\n",
       "      <th>n_cores</th>\n",
       "      <th>...</th>\n",
       "      <th>px_height</th>\n",
       "      <th>px_width</th>\n",
       "      <th>ram</th>\n",
       "      <th>sc_h</th>\n",
       "      <th>sc_w</th>\n",
       "      <th>talk_time</th>\n",
       "      <th>three_g</th>\n",
       "      <th>touch_screen</th>\n",
       "      <th>wifi</th>\n",
       "      <th>price_range</th>\n",
       "    </tr>\n",
       "  </thead>\n",
       "  <tbody>\n",
       "    <tr>\n",
       "      <th>0</th>\n",
       "      <td>842</td>\n",
       "      <td>0</td>\n",
       "      <td>2.2</td>\n",
       "      <td>0</td>\n",
       "      <td>1</td>\n",
       "      <td>0</td>\n",
       "      <td>7</td>\n",
       "      <td>0.6</td>\n",
       "      <td>188</td>\n",
       "      <td>2</td>\n",
       "      <td>...</td>\n",
       "      <td>20</td>\n",
       "      <td>756</td>\n",
       "      <td>2549</td>\n",
       "      <td>9</td>\n",
       "      <td>7</td>\n",
       "      <td>19</td>\n",
       "      <td>0</td>\n",
       "      <td>0</td>\n",
       "      <td>1</td>\n",
       "      <td>1</td>\n",
       "    </tr>\n",
       "    <tr>\n",
       "      <th>1</th>\n",
       "      <td>1021</td>\n",
       "      <td>1</td>\n",
       "      <td>0.5</td>\n",
       "      <td>1</td>\n",
       "      <td>0</td>\n",
       "      <td>1</td>\n",
       "      <td>53</td>\n",
       "      <td>0.7</td>\n",
       "      <td>136</td>\n",
       "      <td>3</td>\n",
       "      <td>...</td>\n",
       "      <td>905</td>\n",
       "      <td>1988</td>\n",
       "      <td>2631</td>\n",
       "      <td>17</td>\n",
       "      <td>3</td>\n",
       "      <td>7</td>\n",
       "      <td>1</td>\n",
       "      <td>1</td>\n",
       "      <td>0</td>\n",
       "      <td>2</td>\n",
       "    </tr>\n",
       "    <tr>\n",
       "      <th>2</th>\n",
       "      <td>563</td>\n",
       "      <td>1</td>\n",
       "      <td>0.5</td>\n",
       "      <td>1</td>\n",
       "      <td>2</td>\n",
       "      <td>1</td>\n",
       "      <td>41</td>\n",
       "      <td>0.9</td>\n",
       "      <td>145</td>\n",
       "      <td>5</td>\n",
       "      <td>...</td>\n",
       "      <td>1263</td>\n",
       "      <td>1716</td>\n",
       "      <td>2603</td>\n",
       "      <td>11</td>\n",
       "      <td>2</td>\n",
       "      <td>9</td>\n",
       "      <td>1</td>\n",
       "      <td>1</td>\n",
       "      <td>0</td>\n",
       "      <td>2</td>\n",
       "    </tr>\n",
       "    <tr>\n",
       "      <th>3</th>\n",
       "      <td>615</td>\n",
       "      <td>1</td>\n",
       "      <td>2.5</td>\n",
       "      <td>0</td>\n",
       "      <td>0</td>\n",
       "      <td>0</td>\n",
       "      <td>10</td>\n",
       "      <td>0.8</td>\n",
       "      <td>131</td>\n",
       "      <td>6</td>\n",
       "      <td>...</td>\n",
       "      <td>1216</td>\n",
       "      <td>1786</td>\n",
       "      <td>2769</td>\n",
       "      <td>16</td>\n",
       "      <td>8</td>\n",
       "      <td>11</td>\n",
       "      <td>1</td>\n",
       "      <td>0</td>\n",
       "      <td>0</td>\n",
       "      <td>2</td>\n",
       "    </tr>\n",
       "    <tr>\n",
       "      <th>4</th>\n",
       "      <td>1821</td>\n",
       "      <td>1</td>\n",
       "      <td>1.2</td>\n",
       "      <td>0</td>\n",
       "      <td>13</td>\n",
       "      <td>1</td>\n",
       "      <td>44</td>\n",
       "      <td>0.6</td>\n",
       "      <td>141</td>\n",
       "      <td>2</td>\n",
       "      <td>...</td>\n",
       "      <td>1208</td>\n",
       "      <td>1212</td>\n",
       "      <td>1411</td>\n",
       "      <td>8</td>\n",
       "      <td>2</td>\n",
       "      <td>15</td>\n",
       "      <td>1</td>\n",
       "      <td>1</td>\n",
       "      <td>0</td>\n",
       "      <td>1</td>\n",
       "    </tr>\n",
       "  </tbody>\n",
       "</table>\n",
       "<p>5 rows × 21 columns</p>\n",
       "</div>"
      ],
      "text/plain": [
       "   battery_power  blue  clock_speed  dual_sim  fc  four_g  int_memory  m_dep  \\\n",
       "0            842     0          2.2         0   1       0           7    0.6   \n",
       "1           1021     1          0.5         1   0       1          53    0.7   \n",
       "2            563     1          0.5         1   2       1          41    0.9   \n",
       "3            615     1          2.5         0   0       0          10    0.8   \n",
       "4           1821     1          1.2         0  13       1          44    0.6   \n",
       "\n",
       "   mobile_wt  n_cores  ...  px_height  px_width   ram  sc_h  sc_w  talk_time  \\\n",
       "0        188        2  ...         20       756  2549     9     7         19   \n",
       "1        136        3  ...        905      1988  2631    17     3          7   \n",
       "2        145        5  ...       1263      1716  2603    11     2          9   \n",
       "3        131        6  ...       1216      1786  2769    16     8         11   \n",
       "4        141        2  ...       1208      1212  1411     8     2         15   \n",
       "\n",
       "   three_g  touch_screen  wifi  price_range  \n",
       "0        0             0     1            1  \n",
       "1        1             1     0            2  \n",
       "2        1             1     0            2  \n",
       "3        1             0     0            2  \n",
       "4        1             1     0            1  \n",
       "\n",
       "[5 rows x 21 columns]"
      ]
     },
     "execution_count": 11,
     "metadata": {},
     "output_type": "execute_result"
    }
   ],
   "source": [
    "df.head()"
   ]
  },
  {
   "cell_type": "code",
   "execution_count": 12,
   "id": "f7e186a3-6d76-410f-9734-1dc834de42cf",
   "metadata": {
    "tags": []
   },
   "outputs": [
    {
     "data": {
      "text/plain": [
       "array(['battery_power', 'blue', 'clock_speed', 'dual_sim', 'fc', 'four_g',\n",
       "       'int_memory', 'm_dep', 'mobile_wt', 'n_cores', 'pc', 'px_height',\n",
       "       'px_width', 'ram', 'sc_h', 'sc_w', 'talk_time', 'three_g',\n",
       "       'touch_screen', 'wifi', 'price_range'], dtype=object)"
      ]
     },
     "execution_count": 12,
     "metadata": {},
     "output_type": "execute_result"
    }
   ],
   "source": [
    "df.columns.values"
   ]
  },
  {
   "cell_type": "markdown",
   "id": "7c2ca0bc-b47a-4c3f-a513-5c059bed9517",
   "metadata": {
    "tags": []
   },
   "source": [
    "### X"
   ]
  },
  {
   "cell_type": "code",
   "execution_count": 13,
   "id": "84a26567-673f-4a67-a75d-093eee835dc9",
   "metadata": {
    "tags": []
   },
   "outputs": [
    {
     "data": {
      "text/html": [
       "<div>\n",
       "<style scoped>\n",
       "    .dataframe tbody tr th:only-of-type {\n",
       "        vertical-align: middle;\n",
       "    }\n",
       "\n",
       "    .dataframe tbody tr th {\n",
       "        vertical-align: top;\n",
       "    }\n",
       "\n",
       "    .dataframe thead th {\n",
       "        text-align: right;\n",
       "    }\n",
       "</style>\n",
       "<table border=\"1\" class=\"dataframe\">\n",
       "  <thead>\n",
       "    <tr style=\"text-align: right;\">\n",
       "      <th></th>\n",
       "      <th>battery_power</th>\n",
       "      <th>blue</th>\n",
       "      <th>clock_speed</th>\n",
       "      <th>dual_sim</th>\n",
       "      <th>fc</th>\n",
       "      <th>four_g</th>\n",
       "      <th>int_memory</th>\n",
       "      <th>m_dep</th>\n",
       "      <th>mobile_wt</th>\n",
       "      <th>n_cores</th>\n",
       "      <th>pc</th>\n",
       "      <th>px_height</th>\n",
       "      <th>px_width</th>\n",
       "      <th>ram</th>\n",
       "      <th>sc_h</th>\n",
       "      <th>sc_w</th>\n",
       "      <th>talk_time</th>\n",
       "      <th>three_g</th>\n",
       "      <th>touch_screen</th>\n",
       "      <th>wifi</th>\n",
       "    </tr>\n",
       "  </thead>\n",
       "  <tbody>\n",
       "    <tr>\n",
       "      <th>0</th>\n",
       "      <td>842</td>\n",
       "      <td>0</td>\n",
       "      <td>2.2</td>\n",
       "      <td>0</td>\n",
       "      <td>1</td>\n",
       "      <td>0</td>\n",
       "      <td>7</td>\n",
       "      <td>0.6</td>\n",
       "      <td>188</td>\n",
       "      <td>2</td>\n",
       "      <td>2</td>\n",
       "      <td>20</td>\n",
       "      <td>756</td>\n",
       "      <td>2549</td>\n",
       "      <td>9</td>\n",
       "      <td>7</td>\n",
       "      <td>19</td>\n",
       "      <td>0</td>\n",
       "      <td>0</td>\n",
       "      <td>1</td>\n",
       "    </tr>\n",
       "    <tr>\n",
       "      <th>1</th>\n",
       "      <td>1021</td>\n",
       "      <td>1</td>\n",
       "      <td>0.5</td>\n",
       "      <td>1</td>\n",
       "      <td>0</td>\n",
       "      <td>1</td>\n",
       "      <td>53</td>\n",
       "      <td>0.7</td>\n",
       "      <td>136</td>\n",
       "      <td>3</td>\n",
       "      <td>6</td>\n",
       "      <td>905</td>\n",
       "      <td>1988</td>\n",
       "      <td>2631</td>\n",
       "      <td>17</td>\n",
       "      <td>3</td>\n",
       "      <td>7</td>\n",
       "      <td>1</td>\n",
       "      <td>1</td>\n",
       "      <td>0</td>\n",
       "    </tr>\n",
       "    <tr>\n",
       "      <th>2</th>\n",
       "      <td>563</td>\n",
       "      <td>1</td>\n",
       "      <td>0.5</td>\n",
       "      <td>1</td>\n",
       "      <td>2</td>\n",
       "      <td>1</td>\n",
       "      <td>41</td>\n",
       "      <td>0.9</td>\n",
       "      <td>145</td>\n",
       "      <td>5</td>\n",
       "      <td>6</td>\n",
       "      <td>1263</td>\n",
       "      <td>1716</td>\n",
       "      <td>2603</td>\n",
       "      <td>11</td>\n",
       "      <td>2</td>\n",
       "      <td>9</td>\n",
       "      <td>1</td>\n",
       "      <td>1</td>\n",
       "      <td>0</td>\n",
       "    </tr>\n",
       "    <tr>\n",
       "      <th>3</th>\n",
       "      <td>615</td>\n",
       "      <td>1</td>\n",
       "      <td>2.5</td>\n",
       "      <td>0</td>\n",
       "      <td>0</td>\n",
       "      <td>0</td>\n",
       "      <td>10</td>\n",
       "      <td>0.8</td>\n",
       "      <td>131</td>\n",
       "      <td>6</td>\n",
       "      <td>9</td>\n",
       "      <td>1216</td>\n",
       "      <td>1786</td>\n",
       "      <td>2769</td>\n",
       "      <td>16</td>\n",
       "      <td>8</td>\n",
       "      <td>11</td>\n",
       "      <td>1</td>\n",
       "      <td>0</td>\n",
       "      <td>0</td>\n",
       "    </tr>\n",
       "    <tr>\n",
       "      <th>4</th>\n",
       "      <td>1821</td>\n",
       "      <td>1</td>\n",
       "      <td>1.2</td>\n",
       "      <td>0</td>\n",
       "      <td>13</td>\n",
       "      <td>1</td>\n",
       "      <td>44</td>\n",
       "      <td>0.6</td>\n",
       "      <td>141</td>\n",
       "      <td>2</td>\n",
       "      <td>14</td>\n",
       "      <td>1208</td>\n",
       "      <td>1212</td>\n",
       "      <td>1411</td>\n",
       "      <td>8</td>\n",
       "      <td>2</td>\n",
       "      <td>15</td>\n",
       "      <td>1</td>\n",
       "      <td>1</td>\n",
       "      <td>0</td>\n",
       "    </tr>\n",
       "  </tbody>\n",
       "</table>\n",
       "</div>"
      ],
      "text/plain": [
       "   battery_power  blue  clock_speed  dual_sim  fc  four_g  int_memory  m_dep  \\\n",
       "0            842     0          2.2         0   1       0           7    0.6   \n",
       "1           1021     1          0.5         1   0       1          53    0.7   \n",
       "2            563     1          0.5         1   2       1          41    0.9   \n",
       "3            615     1          2.5         0   0       0          10    0.8   \n",
       "4           1821     1          1.2         0  13       1          44    0.6   \n",
       "\n",
       "   mobile_wt  n_cores  pc  px_height  px_width   ram  sc_h  sc_w  talk_time  \\\n",
       "0        188        2   2         20       756  2549     9     7         19   \n",
       "1        136        3   6        905      1988  2631    17     3          7   \n",
       "2        145        5   6       1263      1716  2603    11     2          9   \n",
       "3        131        6   9       1216      1786  2769    16     8         11   \n",
       "4        141        2  14       1208      1212  1411     8     2         15   \n",
       "\n",
       "   three_g  touch_screen  wifi  \n",
       "0        0             0     1  \n",
       "1        1             1     0  \n",
       "2        1             1     0  \n",
       "3        1             0     0  \n",
       "4        1             1     0  "
      ]
     },
     "execution_count": 13,
     "metadata": {},
     "output_type": "execute_result"
    }
   ],
   "source": [
    "# X_raw = df.iloc[:, :-1]\n",
    "X_raw = df.loc[:, df.columns != 'price_range']\n",
    "X_raw.head()"
   ]
  },
  {
   "cell_type": "code",
   "execution_count": 14,
   "id": "b66c307d-93e4-4fcc-b4dc-4a210d080167",
   "metadata": {
    "tags": []
   },
   "outputs": [
    {
     "data": {
      "text/plain": [
       "(2000, 20)"
      ]
     },
     "execution_count": 14,
     "metadata": {},
     "output_type": "execute_result"
    }
   ],
   "source": [
    "X_raw.shape"
   ]
  },
  {
   "cell_type": "markdown",
   "id": "b0c1b2cb-5d7d-4bb2-bc91-cab92ec348f3",
   "metadata": {
    "tags": []
   },
   "source": [
    "#### Normalize the data"
   ]
  },
  {
   "cell_type": "code",
   "execution_count": 15,
   "id": "4524fb96-3ef0-4c42-a9be-4734192fb116",
   "metadata": {
    "tags": []
   },
   "outputs": [
    {
     "data": {
      "text/plain": [
       "array([[-0.90259726, -0.9900495 ,  0.83077942, ..., -1.78686097,\n",
       "        -1.00601811,  0.98609664],\n",
       "       [-0.49513857,  1.0100505 , -1.2530642 , ...,  0.55964063,\n",
       "         0.99401789, -1.01409939],\n",
       "       [-1.5376865 ,  1.0100505 , -1.2530642 , ...,  0.55964063,\n",
       "         0.99401789, -1.01409939],\n",
       "       ...,\n",
       "       [ 1.53077336, -0.9900495 , -0.76274805, ...,  0.55964063,\n",
       "         0.99401789, -1.01409939],\n",
       "       [ 0.62252745, -0.9900495 , -0.76274805, ...,  0.55964063,\n",
       "         0.99401789,  0.98609664],\n",
       "       [-1.65833069,  1.0100505 ,  0.58562134, ...,  0.55964063,\n",
       "         0.99401789,  0.98609664]])"
      ]
     },
     "execution_count": 15,
     "metadata": {},
     "output_type": "execute_result"
    }
   ],
   "source": [
    "# !pip install scikit-learn\n",
    "from sklearn.preprocessing import StandardScaler\n",
    "X = StandardScaler().fit_transform(X_raw)\n",
    "X"
   ]
  },
  {
   "cell_type": "markdown",
   "id": "9935cfd4-d9c0-49ae-bc93-10e2fccbd767",
   "metadata": {},
   "source": [
    "### y"
   ]
  },
  {
   "cell_type": "code",
   "execution_count": 16,
   "id": "3463f6cd-abcb-4b0c-baa7-04b8d1f9ff3b",
   "metadata": {
    "tags": []
   },
   "outputs": [
    {
     "data": {
      "text/plain": [
       "array([[1],\n",
       "       [2],\n",
       "       [2],\n",
       "       ...,\n",
       "       [3],\n",
       "       [0],\n",
       "       [3]])"
      ]
     },
     "execution_count": 16,
     "metadata": {},
     "output_type": "execute_result"
    }
   ],
   "source": [
    "y_raw = df['price_range'].values.reshape(-1,1)\n",
    "y_raw"
   ]
  },
  {
   "cell_type": "code",
   "execution_count": 17,
   "id": "18f5e676-7d7e-4d1c-ba81-1a14de7ae327",
   "metadata": {
    "tags": []
   },
   "outputs": [
    {
     "data": {
      "text/plain": [
       "(2000, 1)"
      ]
     },
     "execution_count": 17,
     "metadata": {},
     "output_type": "execute_result"
    }
   ],
   "source": [
    "y_raw.shape"
   ]
  },
  {
   "cell_type": "code",
   "execution_count": 18,
   "id": "9c0ce061-313c-4614-8901-fd0fae28caf2",
   "metadata": {
    "tags": []
   },
   "outputs": [
    {
     "data": {
      "text/plain": [
       "array([0, 1, 2, 3])"
      ]
     },
     "execution_count": 18,
     "metadata": {},
     "output_type": "execute_result"
    }
   ],
   "source": [
    "import numpy as np\n",
    "np.unique(y_raw)"
   ]
  },
  {
   "cell_type": "code",
   "execution_count": 19,
   "id": "a38083df-ce74-47e9-ad42-fbbba39e66cf",
   "metadata": {
    "tags": []
   },
   "outputs": [
    {
     "data": {
      "text/plain": [
       "array([[0., 1., 0., 0.],\n",
       "       [0., 0., 1., 0.],\n",
       "       [0., 0., 1., 0.],\n",
       "       ...,\n",
       "       [0., 0., 0., 1.],\n",
       "       [1., 0., 0., 0.],\n",
       "       [0., 0., 0., 1.]])"
      ]
     },
     "execution_count": 19,
     "metadata": {},
     "output_type": "execute_result"
    }
   ],
   "source": [
    "from sklearn.preprocessing import OneHotEncoder\n",
    "y = OneHotEncoder().fit_transform(y_raw).toarray() #will return a series without toarray\n",
    "y"
   ]
  },
  {
   "cell_type": "code",
   "execution_count": 20,
   "id": "f375207f-2993-4a01-b29a-f9222ce3e22e",
   "metadata": {
    "tags": []
   },
   "outputs": [
    {
     "data": {
      "text/plain": [
       "(2000, 4)"
      ]
     },
     "execution_count": 20,
     "metadata": {},
     "output_type": "execute_result"
    }
   ],
   "source": [
    "y.shape"
   ]
  },
  {
   "cell_type": "code",
   "execution_count": 21,
   "id": "86e08622-2585-495d-b9e5-2f2ab0406243",
   "metadata": {
    "tags": []
   },
   "outputs": [
    {
     "data": {
      "text/plain": [
       "array([0., 1.])"
      ]
     },
     "execution_count": 21,
     "metadata": {},
     "output_type": "execute_result"
    }
   ],
   "source": [
    "np.unique(y)"
   ]
  },
  {
   "cell_type": "markdown",
   "id": "adb3d791-8896-4aa1-a100-e5774256df2e",
   "metadata": {},
   "source": [
    "#### Train-test Split"
   ]
  },
  {
   "cell_type": "code",
   "execution_count": 22,
   "id": "3f5ae249-4303-42d3-8ee3-8b007f8f7da4",
   "metadata": {
    "tags": []
   },
   "outputs": [],
   "source": [
    "from sklearn.model_selection import train_test_split\n",
    "X_train,X_test,y_train,y_test = train_test_split(X,y,test_size = 0.1)"
   ]
  },
  {
   "cell_type": "markdown",
   "id": "3f6b2995-d61e-445e-b73d-b63eed206e31",
   "metadata": {
    "tags": []
   },
   "source": [
    "## 2. Define the Model"
   ]
  },
  {
   "cell_type": "code",
   "execution_count": 23,
   "id": "849b3d26-7463-49b8-b14b-3f5351f1030e",
   "metadata": {
    "tags": []
   },
   "outputs": [
    {
     "ename": "ImportError",
     "evalue": "dlopen(/Users/xingyuchen/miniconda3/lib/python3.9/site-packages/tensorflow/python/_pywrap_tfe.so, 0x0002): Library not loaded: @rpath/_pywrap_tensorflow_internal.so\n  Referenced from: <F7F5FFD8-99BB-368B-8A6A-45A3095815B7> /Users/xingyuchen/miniconda3/lib/python3.9/site-packages/tensorflow/python/_pywrap_tfe.so\n  Reason: tried: '/Users/xingyuchen/miniconda3/lib/python3.9/site-packages/tensorflow/python/../../_solib_darwin_x86_64/_U_S_Stensorflow_Spython_C_Upywrap_Utfe.so___Utensorflow/_pywrap_tensorflow_internal.so' (no such file), '/Users/xingyuchen/miniconda3/lib/python3.9/site-packages/tensorflow/python/../../_solib_darwin_x86_64/_U_S_Stensorflow_Spython_C_Upywrap_Utensorflow_Uinternal_Umacos___Utensorflow_Spython/_pywrap_tensorflow_internal.so' (no such file), '/Users/xingyuchen/miniconda3/lib/python3.9/site-packages/tensorflow/python/_pywrap_tensorflow_internal.so' (no such file), '/Users/xingyuchen/miniconda3/lib/python3.9/site-packages/tensorflow/python/../_pywrap_tensorflow_internal.so' (no such file), '/Users/xingyuchen/miniconda3/lib/python3.9/site-packages/tensorflow/python/../../_solib_darwin_x86_64/_U_S_Stensorflow_Spython_C_Upywrap_Utfe.so___Utensorflow/_pywrap_tensorflow_internal.so' (no such file), '/Users/xingyuchen/miniconda3/lib/python3.9/site-packages/tensorflow/python/../../_solib_darwin_x86_64/_U_S_Stensorflow_Spython_C_Upywrap_Utensorflow_Uinternal_Umacos___Utensorflow_Spython/_pywrap_tensorflow_internal.so' (no such file), '/Users/xingyuchen/miniconda3/lib/python3.9/site-packages/tensorflow/python/_pywrap_tensorflow_internal.so' (no such file), '/Users/xingyuchen/miniconda3/lib/python3.9/site-packages/tensorflow/python/../_pywrap_tensorflow_internal.so' (no such file), '/Users/xingyuchen/miniconda3/lib/_pywrap_tensorflow_internal.so' (no such file), '/System/Volumes/Preboot/Cryptexes/OS/Users/xingyuchen/miniconda3/lib/_pywrap_tensorflow_internal.so' (no such file), '/Users/xingyuchen/miniconda3/bin/../lib/_pywrap_tensorflow_internal.so' (no such file), '/Users/xingyuchen/miniconda3/lib/_pywrap_tensorflow_internal.so' (no such file), '/System/Volumes/Preboot/Cryptexes/OS/Users/xingyuchen/miniconda3/lib/_pywrap_tensorflow_internal.so' (no such file), '/Users/xingyuchen/miniconda3/bin/../lib/_pywrap_tensorflow_internal.so' (no such file), '/System/Volumes/Preboot/Cryptexes/OS@rpath/_pywrap_tensorflow_internal.so' (no such file), '/Users/xingyuchen/miniconda3/lib/python3.9/site-packages/tensorflow/python/../../_solib_darwin_x86_64/_U_S_Stensorflow_Spython_C_Upywrap_Utfe.so___Utensorflow/_pywrap_tensorflow_internal.so' (no such file), '/Users/xingyuchen/miniconda3/lib/python3.9/site-packages/tensorflow/python/../../_solib_darwin_x86_64/_U_S_Stensorflow_Spython_C_Upywrap_Utensorflow_Uinternal_Umacos___Utensorflow_Spython/_pywrap_tensorflow_internal.so' (no such file), '/Users/xingyuchen/miniconda3/lib/python3.9/site-packages/tensorflow/python/_pywrap_tensorflow_internal.so' (no such file), '/Users/xingyuchen/miniconda3/lib/python3.9/site-packages/tensorflow/python/../_pywrap_tensorflow_internal.so' (no such file), '/Users/xingyuchen/miniconda3/lib/python3.9/site-packages/tensorflow/python/../../_solib_darwin_x86_64/_U_S_Stensorflow_Spython_C_Upywrap_Utfe.so___Utensorflow/_pywrap_tensorflow_internal.so' (no such file), '/Users/xingyuchen/miniconda3/lib/python3.9/site-packages/tensorflow/python/../../_solib_darwin_x86_64/_U_S_Stensorflow_Spython_C_Upywrap_Utensorflow_Uinternal_Umacos___Utensorflow_Spython/_pywrap_tensorflow_internal.so' (no such file), '/Users/xingyuchen/miniconda3/lib/python3.9/site-packages/tensorflow/python/_pywrap_tensorflow_internal.so' (no such file), '/Users/xingyuchen/miniconda3/lib/python3.9/site-packages/tensorflow/python/../_pywrap_tensorflow_internal.so' (no such file), '/Users/xingyuchen/miniconda3/lib/_pywrap_tensorflow_internal.so' (no such file), '/System/Volumes/Preboot/Cryptexes/OS/Users/xingyuchen/miniconda3/lib/_pywrap_tensorflow_internal.so' (no such file), '/Users/xingyuchen/miniconda3/bin/../lib/_pywrap_tensorflow_internal.so' (no such file), '/Users/xingyuchen/miniconda3/lib/_pywrap_tensorflow_internal.so' (no such file), '/System/Volumes/Preboot/Cryptexes/OS/Users/xingyuchen/miniconda3/lib/_pywrap_tensorflow_internal.so' (no such file), '/Users/xingyuchen/miniconda3/bin/../lib/_pywrap_tensorflow_internal.so' (no such file), '/usr/local/lib/_pywrap_tensorflow_internal.so' (no such file), '/usr/lib/_pywrap_tensorflow_internal.so' (no such file, not in dyld cache)",
     "output_type": "error",
     "traceback": [
      "\u001B[0;31m---------------------------------------------------------------------------\u001B[0m",
      "\u001B[0;31mImportError\u001B[0m                               Traceback (most recent call last)",
      "Cell \u001B[0;32mIn [23], line 4\u001B[0m\n\u001B[1;32m      1\u001B[0m \u001B[38;5;66;03m#!pip install tensorflow\u001B[39;00m\n\u001B[1;32m      2\u001B[0m \n\u001B[1;32m      3\u001B[0m \u001B[38;5;66;03m#Dependencies\u001B[39;00m\n\u001B[0;32m----> 4\u001B[0m \u001B[38;5;28;01mimport\u001B[39;00m \u001B[38;5;21;01mkeras\u001B[39;00m\n\u001B[1;32m      5\u001B[0m \u001B[38;5;28;01mfrom\u001B[39;00m \u001B[38;5;21;01mkeras\u001B[39;00m\u001B[38;5;21;01m.\u001B[39;00m\u001B[38;5;21;01mmodels\u001B[39;00m \u001B[38;5;28;01mimport\u001B[39;00m Sequential\n\u001B[1;32m      6\u001B[0m \u001B[38;5;28;01mfrom\u001B[39;00m \u001B[38;5;21;01mkeras\u001B[39;00m\u001B[38;5;21;01m.\u001B[39;00m\u001B[38;5;21;01mlayers\u001B[39;00m \u001B[38;5;28;01mimport\u001B[39;00m Dense\n",
      "File \u001B[0;32m~/miniconda3/lib/python3.9/site-packages/keras/__init__.py:21\u001B[0m\n\u001B[1;32m     15\u001B[0m \u001B[38;5;124;03m\"\"\"Implementation of the Keras API, the high-level API of TensorFlow.\u001B[39;00m\n\u001B[1;32m     16\u001B[0m \n\u001B[1;32m     17\u001B[0m \u001B[38;5;124;03mDetailed documentation and user guides are available at\u001B[39;00m\n\u001B[1;32m     18\u001B[0m \u001B[38;5;124;03m[keras.io](https://keras.io).\u001B[39;00m\n\u001B[1;32m     19\u001B[0m \u001B[38;5;124;03m\"\"\"\u001B[39;00m\n\u001B[1;32m     20\u001B[0m \u001B[38;5;66;03m# pylint: disable=unused-import\u001B[39;00m\n\u001B[0;32m---> 21\u001B[0m \u001B[38;5;28;01mfrom\u001B[39;00m \u001B[38;5;21;01mtensorflow\u001B[39;00m\u001B[38;5;21;01m.\u001B[39;00m\u001B[38;5;21;01mpython\u001B[39;00m \u001B[38;5;28;01mimport\u001B[39;00m tf2\n\u001B[1;32m     22\u001B[0m \u001B[38;5;28;01mfrom\u001B[39;00m \u001B[38;5;21;01mkeras\u001B[39;00m \u001B[38;5;28;01mimport\u001B[39;00m distribute\n\u001B[1;32m     24\u001B[0m \u001B[38;5;66;03m# See b/110718070#comment18 for more details about this import.\u001B[39;00m\n",
      "File \u001B[0;32m~/miniconda3/lib/python3.9/site-packages/tensorflow/__init__.py:37\u001B[0m\n\u001B[1;32m     34\u001B[0m \u001B[38;5;28;01mimport\u001B[39;00m \u001B[38;5;21;01msys\u001B[39;00m \u001B[38;5;28;01mas\u001B[39;00m \u001B[38;5;21;01m_sys\u001B[39;00m\n\u001B[1;32m     35\u001B[0m \u001B[38;5;28;01mimport\u001B[39;00m \u001B[38;5;21;01mtyping\u001B[39;00m \u001B[38;5;28;01mas\u001B[39;00m \u001B[38;5;21;01m_typing\u001B[39;00m\n\u001B[0;32m---> 37\u001B[0m \u001B[38;5;28;01mfrom\u001B[39;00m \u001B[38;5;21;01mtensorflow\u001B[39;00m\u001B[38;5;21;01m.\u001B[39;00m\u001B[38;5;21;01mpython\u001B[39;00m\u001B[38;5;21;01m.\u001B[39;00m\u001B[38;5;21;01mtools\u001B[39;00m \u001B[38;5;28;01mimport\u001B[39;00m module_util \u001B[38;5;28;01mas\u001B[39;00m _module_util\n\u001B[1;32m     38\u001B[0m \u001B[38;5;28;01mfrom\u001B[39;00m \u001B[38;5;21;01mtensorflow\u001B[39;00m\u001B[38;5;21;01m.\u001B[39;00m\u001B[38;5;21;01mpython\u001B[39;00m\u001B[38;5;21;01m.\u001B[39;00m\u001B[38;5;21;01mutil\u001B[39;00m\u001B[38;5;21;01m.\u001B[39;00m\u001B[38;5;21;01mlazy_loader\u001B[39;00m \u001B[38;5;28;01mimport\u001B[39;00m LazyLoader \u001B[38;5;28;01mas\u001B[39;00m _LazyLoader\n\u001B[1;32m     40\u001B[0m \u001B[38;5;66;03m# Make sure code inside the TensorFlow codebase can use tf2.enabled() at import.\u001B[39;00m\n",
      "File \u001B[0;32m~/miniconda3/lib/python3.9/site-packages/tensorflow/python/__init__.py:37\u001B[0m\n\u001B[1;32m     29\u001B[0m \u001B[38;5;66;03m# We aim to keep this file minimal and ideally remove completely.\u001B[39;00m\n\u001B[1;32m     30\u001B[0m \u001B[38;5;66;03m# If you are adding a new file with @tf_export decorators,\u001B[39;00m\n\u001B[1;32m     31\u001B[0m \u001B[38;5;66;03m# import it in modules_with_exports.py instead.\u001B[39;00m\n\u001B[1;32m     32\u001B[0m \n\u001B[1;32m     33\u001B[0m \u001B[38;5;66;03m# go/tf-wildcard-import\u001B[39;00m\n\u001B[1;32m     34\u001B[0m \u001B[38;5;66;03m# pylint: disable=wildcard-import,g-bad-import-order,g-import-not-at-top\u001B[39;00m\n\u001B[1;32m     36\u001B[0m \u001B[38;5;28;01mfrom\u001B[39;00m \u001B[38;5;21;01mtensorflow\u001B[39;00m\u001B[38;5;21;01m.\u001B[39;00m\u001B[38;5;21;01mpython\u001B[39;00m \u001B[38;5;28;01mimport\u001B[39;00m pywrap_tensorflow \u001B[38;5;28;01mas\u001B[39;00m _pywrap_tensorflow\n\u001B[0;32m---> 37\u001B[0m \u001B[38;5;28;01mfrom\u001B[39;00m \u001B[38;5;21;01mtensorflow\u001B[39;00m\u001B[38;5;21;01m.\u001B[39;00m\u001B[38;5;21;01mpython\u001B[39;00m\u001B[38;5;21;01m.\u001B[39;00m\u001B[38;5;21;01meager\u001B[39;00m \u001B[38;5;28;01mimport\u001B[39;00m context\n\u001B[1;32m     39\u001B[0m \u001B[38;5;66;03m# pylint: enable=wildcard-import\u001B[39;00m\n\u001B[1;32m     40\u001B[0m \n\u001B[1;32m     41\u001B[0m \u001B[38;5;66;03m# Bring in subpackages.\u001B[39;00m\n\u001B[1;32m     42\u001B[0m \u001B[38;5;28;01mfrom\u001B[39;00m \u001B[38;5;21;01mtensorflow\u001B[39;00m\u001B[38;5;21;01m.\u001B[39;00m\u001B[38;5;21;01mpython\u001B[39;00m \u001B[38;5;28;01mimport\u001B[39;00m data\n",
      "File \u001B[0;32m~/miniconda3/lib/python3.9/site-packages/tensorflow/python/eager/context.py:33\u001B[0m\n\u001B[1;32m     31\u001B[0m \u001B[38;5;28;01mfrom\u001B[39;00m \u001B[38;5;21;01mtensorflow\u001B[39;00m\u001B[38;5;21;01m.\u001B[39;00m\u001B[38;5;21;01mcore\u001B[39;00m\u001B[38;5;21;01m.\u001B[39;00m\u001B[38;5;21;01mprotobuf\u001B[39;00m \u001B[38;5;28;01mimport\u001B[39;00m coordination_config_pb2\n\u001B[1;32m     32\u001B[0m \u001B[38;5;28;01mfrom\u001B[39;00m \u001B[38;5;21;01mtensorflow\u001B[39;00m\u001B[38;5;21;01m.\u001B[39;00m\u001B[38;5;21;01mcore\u001B[39;00m\u001B[38;5;21;01m.\u001B[39;00m\u001B[38;5;21;01mprotobuf\u001B[39;00m \u001B[38;5;28;01mimport\u001B[39;00m rewriter_config_pb2\n\u001B[0;32m---> 33\u001B[0m \u001B[38;5;28;01mfrom\u001B[39;00m \u001B[38;5;21;01mtensorflow\u001B[39;00m\u001B[38;5;21;01m.\u001B[39;00m\u001B[38;5;21;01mpython\u001B[39;00m \u001B[38;5;28;01mimport\u001B[39;00m pywrap_tfe\n\u001B[1;32m     34\u001B[0m \u001B[38;5;28;01mfrom\u001B[39;00m \u001B[38;5;21;01mtensorflow\u001B[39;00m\u001B[38;5;21;01m.\u001B[39;00m\u001B[38;5;21;01mpython\u001B[39;00m \u001B[38;5;28;01mimport\u001B[39;00m tf2\n\u001B[1;32m     35\u001B[0m \u001B[38;5;28;01mfrom\u001B[39;00m \u001B[38;5;21;01mtensorflow\u001B[39;00m\u001B[38;5;21;01m.\u001B[39;00m\u001B[38;5;21;01mpython\u001B[39;00m\u001B[38;5;21;01m.\u001B[39;00m\u001B[38;5;21;01mclient\u001B[39;00m \u001B[38;5;28;01mimport\u001B[39;00m pywrap_tf_session\n",
      "File \u001B[0;32m~/miniconda3/lib/python3.9/site-packages/tensorflow/python/pywrap_tfe.py:25\u001B[0m\n\u001B[1;32m     23\u001B[0m \u001B[38;5;66;03m# pylint: disable=invalid-import-order,g-bad-import-order, wildcard-import, unused-import\u001B[39;00m\n\u001B[1;32m     24\u001B[0m \u001B[38;5;28;01mfrom\u001B[39;00m \u001B[38;5;21;01mtensorflow\u001B[39;00m\u001B[38;5;21;01m.\u001B[39;00m\u001B[38;5;21;01mpython\u001B[39;00m \u001B[38;5;28;01mimport\u001B[39;00m pywrap_tensorflow\n\u001B[0;32m---> 25\u001B[0m \u001B[38;5;28;01mfrom\u001B[39;00m \u001B[38;5;21;01mtensorflow\u001B[39;00m\u001B[38;5;21;01m.\u001B[39;00m\u001B[38;5;21;01mpython\u001B[39;00m\u001B[38;5;21;01m.\u001B[39;00m\u001B[38;5;21;01m_pywrap_tfe\u001B[39;00m \u001B[38;5;28;01mimport\u001B[39;00m \u001B[38;5;241m*\u001B[39m\n",
      "\u001B[0;31mImportError\u001B[0m: dlopen(/Users/xingyuchen/miniconda3/lib/python3.9/site-packages/tensorflow/python/_pywrap_tfe.so, 0x0002): Library not loaded: @rpath/_pywrap_tensorflow_internal.so\n  Referenced from: <F7F5FFD8-99BB-368B-8A6A-45A3095815B7> /Users/xingyuchen/miniconda3/lib/python3.9/site-packages/tensorflow/python/_pywrap_tfe.so\n  Reason: tried: '/Users/xingyuchen/miniconda3/lib/python3.9/site-packages/tensorflow/python/../../_solib_darwin_x86_64/_U_S_Stensorflow_Spython_C_Upywrap_Utfe.so___Utensorflow/_pywrap_tensorflow_internal.so' (no such file), '/Users/xingyuchen/miniconda3/lib/python3.9/site-packages/tensorflow/python/../../_solib_darwin_x86_64/_U_S_Stensorflow_Spython_C_Upywrap_Utensorflow_Uinternal_Umacos___Utensorflow_Spython/_pywrap_tensorflow_internal.so' (no such file), '/Users/xingyuchen/miniconda3/lib/python3.9/site-packages/tensorflow/python/_pywrap_tensorflow_internal.so' (no such file), '/Users/xingyuchen/miniconda3/lib/python3.9/site-packages/tensorflow/python/../_pywrap_tensorflow_internal.so' (no such file), '/Users/xingyuchen/miniconda3/lib/python3.9/site-packages/tensorflow/python/../../_solib_darwin_x86_64/_U_S_Stensorflow_Spython_C_Upywrap_Utfe.so___Utensorflow/_pywrap_tensorflow_internal.so' (no such file), '/Users/xingyuchen/miniconda3/lib/python3.9/site-packages/tensorflow/python/../../_solib_darwin_x86_64/_U_S_Stensorflow_Spython_C_Upywrap_Utensorflow_Uinternal_Umacos___Utensorflow_Spython/_pywrap_tensorflow_internal.so' (no such file), '/Users/xingyuchen/miniconda3/lib/python3.9/site-packages/tensorflow/python/_pywrap_tensorflow_internal.so' (no such file), '/Users/xingyuchen/miniconda3/lib/python3.9/site-packages/tensorflow/python/../_pywrap_tensorflow_internal.so' (no such file), '/Users/xingyuchen/miniconda3/lib/_pywrap_tensorflow_internal.so' (no such file), '/System/Volumes/Preboot/Cryptexes/OS/Users/xingyuchen/miniconda3/lib/_pywrap_tensorflow_internal.so' (no such file), '/Users/xingyuchen/miniconda3/bin/../lib/_pywrap_tensorflow_internal.so' (no such file), '/Users/xingyuchen/miniconda3/lib/_pywrap_tensorflow_internal.so' (no such file), '/System/Volumes/Preboot/Cryptexes/OS/Users/xingyuchen/miniconda3/lib/_pywrap_tensorflow_internal.so' (no such file), '/Users/xingyuchen/miniconda3/bin/../lib/_pywrap_tensorflow_internal.so' (no such file), '/System/Volumes/Preboot/Cryptexes/OS@rpath/_pywrap_tensorflow_internal.so' (no such file), '/Users/xingyuchen/miniconda3/lib/python3.9/site-packages/tensorflow/python/../../_solib_darwin_x86_64/_U_S_Stensorflow_Spython_C_Upywrap_Utfe.so___Utensorflow/_pywrap_tensorflow_internal.so' (no such file), '/Users/xingyuchen/miniconda3/lib/python3.9/site-packages/tensorflow/python/../../_solib_darwin_x86_64/_U_S_Stensorflow_Spython_C_Upywrap_Utensorflow_Uinternal_Umacos___Utensorflow_Spython/_pywrap_tensorflow_internal.so' (no such file), '/Users/xingyuchen/miniconda3/lib/python3.9/site-packages/tensorflow/python/_pywrap_tensorflow_internal.so' (no such file), '/Users/xingyuchen/miniconda3/lib/python3.9/site-packages/tensorflow/python/../_pywrap_tensorflow_internal.so' (no such file), '/Users/xingyuchen/miniconda3/lib/python3.9/site-packages/tensorflow/python/../../_solib_darwin_x86_64/_U_S_Stensorflow_Spython_C_Upywrap_Utfe.so___Utensorflow/_pywrap_tensorflow_internal.so' (no such file), '/Users/xingyuchen/miniconda3/lib/python3.9/site-packages/tensorflow/python/../../_solib_darwin_x86_64/_U_S_Stensorflow_Spython_C_Upywrap_Utensorflow_Uinternal_Umacos___Utensorflow_Spython/_pywrap_tensorflow_internal.so' (no such file), '/Users/xingyuchen/miniconda3/lib/python3.9/site-packages/tensorflow/python/_pywrap_tensorflow_internal.so' (no such file), '/Users/xingyuchen/miniconda3/lib/python3.9/site-packages/tensorflow/python/../_pywrap_tensorflow_internal.so' (no such file), '/Users/xingyuchen/miniconda3/lib/_pywrap_tensorflow_internal.so' (no such file), '/System/Volumes/Preboot/Cryptexes/OS/Users/xingyuchen/miniconda3/lib/_pywrap_tensorflow_internal.so' (no such file), '/Users/xingyuchen/miniconda3/bin/../lib/_pywrap_tensorflow_internal.so' (no such file), '/Users/xingyuchen/miniconda3/lib/_pywrap_tensorflow_internal.so' (no such file), '/System/Volumes/Preboot/Cryptexes/OS/Users/xingyuchen/miniconda3/lib/_pywrap_tensorflow_internal.so' (no such file), '/Users/xingyuchen/miniconda3/bin/../lib/_pywrap_tensorflow_internal.so' (no such file), '/usr/local/lib/_pywrap_tensorflow_internal.so' (no such file), '/usr/lib/_pywrap_tensorflow_internal.so' (no such file, not in dyld cache)"
     ]
    }
   ],
   "source": [
    "#!pip install tensorflow\n",
    "\n",
    "#Dependencies\n",
    "import keras\n",
    "from keras.models import Sequential\n",
    "from keras.layers import Dense"
   ]
  },
  {
   "cell_type": "code",
   "execution_count": null,
   "id": "1a2d68b9-33a2-42cb-82e9-aed646062114",
   "metadata": {},
   "outputs": [],
   "source": [
    "numInputs = X.shape[1] # 20 features\n",
    "numOutputs = y.shape[1] # 4 outputs"
   ]
  },
  {
   "cell_type": "code",
   "execution_count": null,
   "id": "3b47ecd1-9e62-4a6e-866c-959b1d2340dc",
   "metadata": {
    "tags": []
   },
   "outputs": [],
   "source": [
    "# Neural network\n",
    "mod1 = Sequential() # allows us to add layers to our NN sequentially\n",
    "mod1.add(Dense(16, input_dim=numInputs, activation='sigmoid')) # first hidden layer, 16 units\n",
    "mod1.add(Dense(12, activation='sigmoid')) # second hidden layer, 12 units (will determine inputs from previous layer)\n",
    "mod1.add(Dense(numOutputs, activation='softmax')) # output layer"
   ]
  },
  {
   "cell_type": "markdown",
   "id": "c8000cae-edce-40b9-a544-980076058cf4",
   "metadata": {
    "tags": []
   },
   "source": [
    "## 3. Define the Loss Function and Optimizer"
   ]
  },
  {
   "cell_type": "markdown",
   "id": "c442b75e-85d4-48ad-8772-a91abd5ccf5d",
   "metadata": {},
   "source": [
    "- Loss Function: Beacuse we have multiple classes, we will use categorical cross-entropy\n",
    "    - [Other loss functions in Keras](https://keras.io/api/losses/)\n",
    "- Optimizer: [Adam](https://keras.io/api/optimizers/adam/)\n",
    "    - [Other optimizers in Keras](https://keras.io/api/optimizers/)"
   ]
  },
  {
   "cell_type": "code",
   "execution_count": 17,
   "id": "0e9fa13d-37d2-4e8e-8b29-db243ca02f68",
   "metadata": {
    "tags": []
   },
   "outputs": [],
   "source": [
    "mod1.compile(loss='categorical_crossentropy', optimizer=\"adam\", metrics=['accuracy'])\n",
    "\n",
    "# # what about SGD?\n",
    "# sgd = keras.optimizers.SGD(learning_rate = 0.01) # defaults to 0.001\n",
    "# mod1.compile(loss='categorical_crossentropy', optimizer=sgd, metrics=['accuracy'])"
   ]
  },
  {
   "cell_type": "markdown",
   "id": "bce3293e-d754-40b7-93e4-3f19dff7ea07",
   "metadata": {
    "tags": []
   },
   "source": [
    "## 4. Fit the Model"
   ]
  },
  {
   "cell_type": "code",
   "execution_count": 18,
   "id": "245dd544-a616-4c2a-bed0-18cf10d9577c",
   "metadata": {
    "tags": []
   },
   "outputs": [
    {
     "name": "stdout",
     "output_type": "stream",
     "text": [
      "Epoch 1/100\n"
     ]
    },
    {
     "name": "stderr",
     "output_type": "stream",
     "text": [
      "2022-09-30 16:10:13.576383: W tensorflow/core/platform/profile_utils/cpu_utils.cc:128] Failed to get CPU frequency: 0 Hz\n",
      "2022-09-30 16:10:13.737289: I tensorflow/core/grappler/optimizers/custom_graph_optimizer_registry.cc:113] Plugin optimizer for device_type GPU is enabled.\n"
     ]
    },
    {
     "name": "stdout",
     "output_type": "stream",
     "text": [
      "29/29 [==============================] - 1s 9ms/step - loss: 1.4595 - accuracy: 0.1939\n",
      "Epoch 2/100\n",
      "29/29 [==============================] - 0s 7ms/step - loss: 1.4005 - accuracy: 0.2533\n",
      "Epoch 3/100\n",
      "29/29 [==============================] - 0s 9ms/step - loss: 1.3790 - accuracy: 0.3083\n",
      "Epoch 4/100\n",
      "29/29 [==============================] - 0s 8ms/step - loss: 1.3671 - accuracy: 0.3533\n",
      "Epoch 5/100\n",
      "29/29 [==============================] - 0s 8ms/step - loss: 1.3540 - accuracy: 0.3911\n",
      "Epoch 6/100\n",
      "29/29 [==============================] - 0s 7ms/step - loss: 1.3400 - accuracy: 0.4450\n",
      "Epoch 7/100\n",
      "29/29 [==============================] - 0s 7ms/step - loss: 1.3242 - accuracy: 0.4711\n",
      "Epoch 8/100\n",
      "29/29 [==============================] - 0s 8ms/step - loss: 1.3046 - accuracy: 0.4878\n",
      "Epoch 9/100\n",
      "29/29 [==============================] - 0s 8ms/step - loss: 1.2827 - accuracy: 0.5089\n",
      "Epoch 10/100\n",
      "29/29 [==============================] - 0s 7ms/step - loss: 1.2574 - accuracy: 0.5333\n",
      "Epoch 11/100\n",
      "29/29 [==============================] - 0s 7ms/step - loss: 1.2281 - accuracy: 0.5400\n",
      "Epoch 12/100\n",
      "29/29 [==============================] - 0s 8ms/step - loss: 1.1957 - accuracy: 0.5667\n",
      "Epoch 13/100\n",
      "29/29 [==============================] - 0s 7ms/step - loss: 1.1597 - accuracy: 0.5717\n",
      "Epoch 14/100\n",
      "29/29 [==============================] - 0s 7ms/step - loss: 1.1200 - accuracy: 0.5833\n",
      "Epoch 15/100\n",
      "29/29 [==============================] - 0s 7ms/step - loss: 1.0784 - accuracy: 0.6333\n",
      "Epoch 16/100\n",
      "29/29 [==============================] - 0s 7ms/step - loss: 1.0353 - accuracy: 0.6633\n",
      "Epoch 17/100\n",
      "29/29 [==============================] - 0s 7ms/step - loss: 0.9924 - accuracy: 0.6656\n",
      "Epoch 18/100\n",
      "29/29 [==============================] - 0s 8ms/step - loss: 0.9508 - accuracy: 0.6922\n",
      "Epoch 19/100\n",
      "29/29 [==============================] - 0s 7ms/step - loss: 0.9104 - accuracy: 0.6933\n",
      "Epoch 20/100\n",
      "29/29 [==============================] - 0s 7ms/step - loss: 0.8724 - accuracy: 0.7428\n",
      "Epoch 21/100\n",
      "29/29 [==============================] - 0s 7ms/step - loss: 0.8373 - accuracy: 0.7706\n",
      "Epoch 22/100\n",
      "29/29 [==============================] - 0s 8ms/step - loss: 0.8054 - accuracy: 0.8178\n",
      "Epoch 23/100\n",
      "29/29 [==============================] - 0s 9ms/step - loss: 0.7751 - accuracy: 0.8272\n",
      "Epoch 24/100\n",
      "29/29 [==============================] - 0s 8ms/step - loss: 0.7470 - accuracy: 0.8400\n",
      "Epoch 25/100\n",
      "29/29 [==============================] - 0s 7ms/step - loss: 0.7212 - accuracy: 0.8417\n",
      "Epoch 26/100\n",
      "29/29 [==============================] - 0s 9ms/step - loss: 0.6968 - accuracy: 0.8483\n",
      "Epoch 27/100\n",
      "29/29 [==============================] - 0s 7ms/step - loss: 0.6746 - accuracy: 0.8722\n",
      "Epoch 28/100\n",
      "29/29 [==============================] - 0s 8ms/step - loss: 0.6528 - accuracy: 0.8883\n",
      "Epoch 29/100\n",
      "29/29 [==============================] - 0s 8ms/step - loss: 0.6328 - accuracy: 0.8728\n",
      "Epoch 30/100\n",
      "29/29 [==============================] - 0s 8ms/step - loss: 0.6139 - accuracy: 0.8978\n",
      "Epoch 31/100\n",
      "29/29 [==============================] - 0s 8ms/step - loss: 0.5958 - accuracy: 0.9067\n",
      "Epoch 32/100\n",
      "29/29 [==============================] - 0s 7ms/step - loss: 0.5791 - accuracy: 0.9089\n",
      "Epoch 33/100\n",
      "29/29 [==============================] - 0s 7ms/step - loss: 0.5625 - accuracy: 0.9206\n",
      "Epoch 34/100\n",
      "29/29 [==============================] - 0s 8ms/step - loss: 0.5469 - accuracy: 0.9244\n",
      "Epoch 35/100\n",
      "29/29 [==============================] - 0s 7ms/step - loss: 0.5320 - accuracy: 0.9222\n",
      "Epoch 36/100\n",
      "29/29 [==============================] - 0s 7ms/step - loss: 0.5176 - accuracy: 0.9328\n",
      "Epoch 37/100\n",
      "29/29 [==============================] - 0s 8ms/step - loss: 0.5043 - accuracy: 0.9283\n",
      "Epoch 38/100\n",
      "29/29 [==============================] - 0s 8ms/step - loss: 0.4917 - accuracy: 0.9406\n",
      "Epoch 39/100\n",
      "29/29 [==============================] - 0s 7ms/step - loss: 0.4783 - accuracy: 0.9300\n",
      "Epoch 40/100\n",
      "29/29 [==============================] - 0s 7ms/step - loss: 0.4670 - accuracy: 0.9367\n",
      "Epoch 41/100\n",
      "29/29 [==============================] - 0s 7ms/step - loss: 0.4550 - accuracy: 0.9428\n",
      "Epoch 42/100\n",
      "29/29 [==============================] - 0s 8ms/step - loss: 0.4438 - accuracy: 0.9422\n",
      "Epoch 43/100\n",
      "29/29 [==============================] - 0s 8ms/step - loss: 0.4333 - accuracy: 0.9428\n",
      "Epoch 44/100\n",
      "29/29 [==============================] - 0s 7ms/step - loss: 0.4229 - accuracy: 0.9406\n",
      "Epoch 45/100\n",
      "29/29 [==============================] - 0s 7ms/step - loss: 0.4128 - accuracy: 0.9372\n",
      "Epoch 46/100\n",
      "29/29 [==============================] - 0s 8ms/step - loss: 0.4028 - accuracy: 0.9456\n",
      "Epoch 47/100\n",
      "29/29 [==============================] - 0s 8ms/step - loss: 0.3939 - accuracy: 0.9517\n",
      "Epoch 48/100\n",
      "29/29 [==============================] - 0s 7ms/step - loss: 0.3848 - accuracy: 0.9550\n",
      "Epoch 49/100\n",
      "29/29 [==============================] - 0s 7ms/step - loss: 0.3761 - accuracy: 0.9500\n",
      "Epoch 50/100\n",
      "29/29 [==============================] - 0s 8ms/step - loss: 0.3676 - accuracy: 0.9533\n",
      "Epoch 51/100\n",
      "29/29 [==============================] - 0s 8ms/step - loss: 0.3593 - accuracy: 0.9567\n",
      "Epoch 52/100\n",
      "29/29 [==============================] - 0s 8ms/step - loss: 0.3511 - accuracy: 0.9533\n",
      "Epoch 53/100\n",
      "29/29 [==============================] - 0s 8ms/step - loss: 0.3434 - accuracy: 0.9539\n",
      "Epoch 54/100\n",
      "29/29 [==============================] - 0s 7ms/step - loss: 0.3359 - accuracy: 0.9550\n",
      "Epoch 55/100\n",
      "29/29 [==============================] - 0s 7ms/step - loss: 0.3285 - accuracy: 0.9633\n",
      "Epoch 56/100\n",
      "29/29 [==============================] - 0s 7ms/step - loss: 0.3211 - accuracy: 0.9589\n",
      "Epoch 57/100\n",
      "29/29 [==============================] - 0s 8ms/step - loss: 0.3141 - accuracy: 0.9628\n",
      "Epoch 58/100\n",
      "29/29 [==============================] - 0s 7ms/step - loss: 0.3075 - accuracy: 0.9611\n",
      "Epoch 59/100\n",
      "29/29 [==============================] - 0s 7ms/step - loss: 0.3009 - accuracy: 0.9639\n",
      "Epoch 60/100\n",
      "29/29 [==============================] - 0s 7ms/step - loss: 0.2940 - accuracy: 0.9628\n",
      "Epoch 61/100\n",
      "29/29 [==============================] - 0s 7ms/step - loss: 0.2880 - accuracy: 0.9594\n",
      "Epoch 62/100\n",
      "29/29 [==============================] - 0s 7ms/step - loss: 0.2815 - accuracy: 0.9644\n",
      "Epoch 63/100\n",
      "29/29 [==============================] - 0s 7ms/step - loss: 0.2758 - accuracy: 0.9650\n",
      "Epoch 64/100\n",
      "29/29 [==============================] - 0s 8ms/step - loss: 0.2699 - accuracy: 0.9672\n",
      "Epoch 65/100\n",
      "29/29 [==============================] - 0s 8ms/step - loss: 0.2640 - accuracy: 0.9628\n",
      "Epoch 66/100\n",
      "29/29 [==============================] - 0s 8ms/step - loss: 0.2584 - accuracy: 0.9633\n",
      "Epoch 67/100\n",
      "29/29 [==============================] - 0s 8ms/step - loss: 0.2533 - accuracy: 0.9672\n",
      "Epoch 68/100\n",
      "29/29 [==============================] - 0s 7ms/step - loss: 0.2477 - accuracy: 0.9678\n",
      "Epoch 69/100\n",
      "29/29 [==============================] - 0s 7ms/step - loss: 0.2426 - accuracy: 0.9656\n",
      "Epoch 70/100\n",
      "29/29 [==============================] - 0s 8ms/step - loss: 0.2384 - accuracy: 0.9700\n",
      "Epoch 71/100\n",
      "29/29 [==============================] - 0s 8ms/step - loss: 0.2331 - accuracy: 0.9711\n",
      "Epoch 72/100\n",
      "29/29 [==============================] - 0s 8ms/step - loss: 0.2278 - accuracy: 0.9700\n",
      "Epoch 73/100\n",
      "29/29 [==============================] - 0s 7ms/step - loss: 0.2235 - accuracy: 0.9717\n",
      "Epoch 74/100\n",
      "29/29 [==============================] - 0s 8ms/step - loss: 0.2188 - accuracy: 0.9728\n",
      "Epoch 75/100\n",
      "29/29 [==============================] - 0s 8ms/step - loss: 0.2150 - accuracy: 0.9694\n",
      "Epoch 76/100\n",
      "29/29 [==============================] - 0s 8ms/step - loss: 0.2103 - accuracy: 0.9711\n",
      "Epoch 77/100\n",
      "29/29 [==============================] - 0s 7ms/step - loss: 0.2065 - accuracy: 0.9711\n",
      "Epoch 78/100\n",
      "29/29 [==============================] - 0s 7ms/step - loss: 0.2023 - accuracy: 0.9756\n",
      "Epoch 79/100\n",
      "29/29 [==============================] - 0s 7ms/step - loss: 0.1988 - accuracy: 0.9728\n",
      "Epoch 80/100\n",
      "29/29 [==============================] - 0s 7ms/step - loss: 0.1949 - accuracy: 0.9717\n",
      "Epoch 81/100\n",
      "29/29 [==============================] - 0s 8ms/step - loss: 0.1912 - accuracy: 0.9722\n",
      "Epoch 82/100\n",
      "29/29 [==============================] - 0s 8ms/step - loss: 0.1878 - accuracy: 0.9767\n",
      "Epoch 83/100\n",
      "29/29 [==============================] - 0s 7ms/step - loss: 0.1844 - accuracy: 0.9756\n",
      "Epoch 84/100\n",
      "29/29 [==============================] - 0s 8ms/step - loss: 0.1807 - accuracy: 0.9783\n",
      "Epoch 85/100\n",
      "29/29 [==============================] - 0s 7ms/step - loss: 0.1783 - accuracy: 0.9761\n",
      "Epoch 86/100\n",
      "29/29 [==============================] - 0s 7ms/step - loss: 0.1743 - accuracy: 0.9767\n",
      "Epoch 87/100\n",
      "29/29 [==============================] - 0s 8ms/step - loss: 0.1714 - accuracy: 0.9772\n",
      "Epoch 88/100\n",
      "29/29 [==============================] - 0s 7ms/step - loss: 0.1688 - accuracy: 0.9767\n",
      "Epoch 89/100\n",
      "29/29 [==============================] - 0s 8ms/step - loss: 0.1659 - accuracy: 0.9789\n",
      "Epoch 90/100\n",
      "29/29 [==============================] - 0s 7ms/step - loss: 0.1626 - accuracy: 0.9778\n",
      "Epoch 91/100\n",
      "29/29 [==============================] - 0s 8ms/step - loss: 0.1601 - accuracy: 0.9778\n",
      "Epoch 92/100\n",
      "29/29 [==============================] - 0s 7ms/step - loss: 0.1579 - accuracy: 0.9789\n",
      "Epoch 93/100\n",
      "29/29 [==============================] - 0s 8ms/step - loss: 0.1549 - accuracy: 0.9794\n",
      "Epoch 94/100\n",
      "29/29 [==============================] - 0s 7ms/step - loss: 0.1528 - accuracy: 0.9806\n",
      "Epoch 95/100\n",
      "29/29 [==============================] - 0s 7ms/step - loss: 0.1505 - accuracy: 0.9778\n",
      "Epoch 96/100\n",
      "29/29 [==============================] - 0s 7ms/step - loss: 0.1480 - accuracy: 0.9767\n",
      "Epoch 97/100\n",
      "29/29 [==============================] - 0s 7ms/step - loss: 0.1456 - accuracy: 0.9778\n",
      "Epoch 98/100\n",
      "29/29 [==============================] - 0s 7ms/step - loss: 0.1435 - accuracy: 0.9778\n",
      "Epoch 99/100\n",
      "29/29 [==============================] - 0s 7ms/step - loss: 0.1411 - accuracy: 0.9811\n",
      "Epoch 100/100\n",
      "29/29 [==============================] - 0s 7ms/step - loss: 0.1391 - accuracy: 0.9783\n"
     ]
    }
   ],
   "source": [
    "# set verbose = 0 if you don't want to print each epoch\n",
    "hist1 = mod1.fit(X_train, y_train, epochs=100, batch_size=64)"
   ]
  },
  {
   "cell_type": "code",
   "execution_count": 19,
   "id": "d5aa1eca-43d0-42ef-bc22-2d76feb076f8",
   "metadata": {
    "tags": []
   },
   "outputs": [
    {
     "data": {
      "image/png": "[encoded data removed]",
      "text/plain": [
       "<Figure size 640x480 with 1 Axes>"
      ]
     },
     "metadata": {},
     "output_type": "display_data"
    }
   ],
   "source": [
    "import matplotlib.pyplot as plt\n",
    "plt.plot(hist1.history['loss']) \n",
    "plt.title('Model loss') \n",
    "plt.ylabel('Loss') \n",
    "plt.xlabel('Epoch') \n",
    "plt.legend(['Train'], loc='upper left') \n",
    "plt.show()"
   ]
  },
  {
   "cell_type": "code",
   "execution_count": 32,
   "id": "16b792b9-d009-4518-ab16-a7a18875374c",
   "metadata": {
    "tags": []
   },
   "outputs": [
    {
     "name": "stdout",
     "output_type": "stream",
     "text": [
      "7/7 [==============================] - 0s 2ms/step\n"
     ]
    },
    {
     "data": {
      "text/plain": [
       "array([[2.74165854e-04, 3.57586145e-02, 9.55599487e-01, 8.36770982e-03],\n",
       "       [2.10443023e-03, 2.44670346e-01, 7.49490440e-01, 3.73474858e-03],\n",
       "       [2.12706550e-06, 1.47175553e-04, 2.13607885e-02, 9.78489816e-01],\n",
       "       [9.88004103e-06, 7.77767680e-04, 1.10434920e-01, 8.88777375e-01],\n",
       "       [9.80837166e-01, 1.88662950e-02, 2.95368285e-04, 1.17915295e-06],\n",
       "       [9.47144389e-01, 5.20912185e-02, 7.61423085e-04, 2.88688420e-06],\n",
       "       [8.04253459e-01, 1.93177655e-01, 2.55965325e-03, 9.22990603e-06],\n",
       "       [1.95769666e-04, 2.45036613e-02, 9.62555349e-01, 1.27452891e-02],\n",
       "       [5.08860030e-05, 4.83678514e-03, 6.50383532e-01, 3.44728827e-01],\n",
       "       [2.70883879e-06, 1.91324638e-04, 2.76693106e-02, 9.72136676e-01],\n",
       "       [6.54587209e-01, 3.41059685e-01, 4.33842978e-03, 1.46947968e-05],\n",
       "       [3.13176513e-01, 6.78858638e-01, 7.93991983e-03, 2.49001550e-05],\n",
       "       [6.94006728e-03, 7.00106978e-01, 2.91894317e-01, 1.05871877e-03],\n",
       "       [1.79708637e-02, 9.56567228e-01, 2.53857672e-02, 7.61035553e-05],\n",
       "       [9.70338702e-01, 2.92147491e-02, 4.44905512e-04, 1.74058755e-06],\n",
       "       [1.63870323e-02, 9.52226818e-01, 3.12899761e-02, 9.61303813e-05],\n",
       "       [1.03349012e-04, 1.25676328e-02, 9.67742324e-01, 1.95866935e-02],\n",
       "       [1.64080245e-06, 1.10531757e-04, 1.60516575e-02, 9.83836234e-01],\n",
       "       [7.48905368e-05, 7.74918916e-03, 8.55280399e-01, 1.36895478e-01],\n",
       "       [6.78322067e-06, 5.19997091e-04, 7.47434944e-02, 9.24729705e-01],\n",
       "       [7.02275634e-02, 9.17975128e-01, 1.17625603e-02, 3.48409376e-05],\n",
       "       [1.14332732e-04, 1.28853805e-02, 9.45978940e-01, 4.10213284e-02],\n",
       "       [9.35913026e-01, 6.31676987e-02, 9.15834156e-04, 3.44687487e-06],\n",
       "       [1.63909607e-02, 9.53938723e-01, 2.95839440e-02, 8.64348622e-05],\n",
       "       [1.03161328e-04, 1.24896728e-02, 9.65312719e-01, 2.20945626e-02],\n",
       "       [2.99039811e-01, 6.92849755e-01, 8.08412768e-03, 2.63813999e-05],\n",
       "       [1.07196138e-04, 1.21023599e-02, 9.40691411e-01, 4.70990986e-02],\n",
       "       [2.98020404e-06, 2.12553627e-04, 3.08932401e-02, 9.68891263e-01],\n",
       "       [2.93991040e-03, 3.31117094e-01, 6.63090587e-01, 2.85240682e-03],\n",
       "       [1.84960106e-06, 1.26082668e-04, 1.83358584e-02, 9.81536090e-01],\n",
       "       [9.24740136e-01, 7.41948858e-02, 1.06099679e-03, 3.95806046e-06],\n",
       "       [3.62390419e-05, 3.21504846e-03, 4.30457264e-01, 5.66291451e-01],\n",
       "       [4.55403268e-01, 5.38007379e-01, 6.56792102e-03, 2.14577958e-05],\n",
       "       [9.71859396e-01, 2.77159438e-02, 4.22976969e-04, 1.66069174e-06],\n",
       "       [1.52142823e-01, 8.37873816e-01, 9.95263364e-03, 3.08041126e-05],\n",
       "       [2.76602767e-02, 9.55332339e-01, 1.69572644e-02, 5.01049617e-05],\n",
       "       [9.45341825e-01, 5.38695492e-02, 7.85628043e-04, 2.99794533e-06],\n",
       "       [2.67173891e-05, 2.32872693e-03, 3.24883431e-01, 6.72761142e-01],\n",
       "       [5.31224191e-01, 4.63127822e-01, 5.62933413e-03, 1.87191199e-05],\n",
       "       [8.03839939e-05, 9.05546919e-03, 9.41915929e-01, 4.89482097e-02],\n",
       "       [1.71213632e-03, 2.05268726e-01, 7.88957119e-01, 4.06204304e-03],\n",
       "       [9.22480194e-06, 7.24214769e-04, 1.02086008e-01, 8.97180617e-01],\n",
       "       [8.67458433e-02, 9.02254581e-01, 1.09670311e-02, 3.25520123e-05],\n",
       "       [1.20708910e-06, 7.85747543e-05, 1.14348838e-02, 9.88485336e-01],\n",
       "       [3.64185832e-02, 9.49299693e-01, 1.42399035e-02, 4.19194221e-05],\n",
       "       [2.51484516e-06, 1.77319424e-04, 2.55879257e-02, 9.74232256e-01],\n",
       "       [3.31425363e-05, 2.92290258e-03, 4.02505100e-01, 5.94538808e-01],\n",
       "       [2.50480343e-06, 1.76646645e-04, 2.55554188e-02, 9.74265397e-01],\n",
       "       [9.52608883e-01, 4.66954932e-02, 6.92952133e-04, 2.65347421e-06],\n",
       "       [1.19967968e-03, 1.45016834e-01, 8.49276781e-01, 4.50666668e-03],\n",
       "       [1.06862663e-05, 8.47137475e-04, 1.21109493e-01, 8.78032744e-01],\n",
       "       [1.65864719e-06, 1.12049762e-04, 1.62609592e-02, 9.83625233e-01],\n",
       "       [9.56106722e-01, 4.32509109e-02, 6.39912090e-04, 2.46927402e-06],\n",
       "       [6.80320154e-05, 6.98873168e-03, 8.46971154e-01, 1.45972088e-01],\n",
       "       [8.28096569e-01, 1.69618890e-01, 2.27650418e-03, 8.07322886e-06],\n",
       "       [1.64780840e-06, 1.10957044e-04, 1.61074735e-02, 9.83779967e-01],\n",
       "       [6.14289224e-01, 3.80923420e-01, 4.77093691e-03, 1.63940440e-05],\n",
       "       [4.05794799e-06, 2.97340710e-04, 4.30810452e-02, 9.56617534e-01],\n",
       "       [5.87799819e-03, 5.99329770e-01, 3.93295079e-01, 1.49714330e-03],\n",
       "       [1.18721044e-02, 9.20874059e-01, 6.70323297e-02, 2.21539507e-04],\n",
       "       [1.24901955e-04, 1.52042592e-02, 9.62759018e-01, 2.19117869e-02],\n",
       "       [9.19170634e-05, 1.07514560e-02, 9.51580107e-01, 3.75764929e-02],\n",
       "       [2.70667579e-06, 1.91373401e-04, 2.76927222e-02, 9.72113252e-01],\n",
       "       [4.49944228e-01, 5.43537438e-01, 6.49710745e-03, 2.11988063e-05],\n",
       "       [4.18523159e-05, 3.77524528e-03, 5.04114151e-01, 4.92068857e-01],\n",
       "       [1.06736152e-04, 1.36993285e-02, 9.72237945e-01, 1.39560392e-02],\n",
       "       [2.19047506e-05, 1.85746897e-03, 2.51710832e-01, 7.46409893e-01],\n",
       "       [9.66426611e-01, 3.30724902e-02, 4.98935231e-04, 1.94482163e-06],\n",
       "       [9.45787787e-01, 5.34300543e-02, 7.79212336e-04, 2.96309122e-06],\n",
       "       [1.29767113e-06, 8.52189842e-05, 1.23950103e-02, 9.87518489e-01],\n",
       "       [3.84955853e-01, 6.07832372e-01, 7.18901074e-03, 2.28353165e-05],\n",
       "       [1.52992323e-01, 8.36723626e-01, 1.02524506e-02, 3.16574660e-05],\n",
       "       [1.33882407e-02, 9.30723190e-01, 5.57107814e-02, 1.77870665e-04],\n",
       "       [4.22099292e-01, 5.70986927e-01, 6.89127063e-03, 2.25479034e-05],\n",
       "       [9.26655121e-05, 1.03683611e-02, 9.46955502e-01, 4.25835066e-02],\n",
       "       [9.82320905e-01, 1.74043700e-02, 2.73627607e-04, 1.09457858e-06],\n",
       "       [1.21613517e-02, 9.07432377e-01, 8.01175088e-02, 2.88739946e-04],\n",
       "       [6.08164728e-01, 3.87004972e-01, 4.81436308e-03, 1.59486044e-05],\n",
       "       [8.31732452e-01, 1.66051283e-01, 2.20833393e-03, 7.89578553e-06],\n",
       "       [9.78577852e-01, 2.10929830e-02, 3.27884860e-04, 1.30157969e-06],\n",
       "       [1.39412424e-02, 9.47123885e-01, 3.88169400e-02, 1.17945485e-04],\n",
       "       [7.70145998e-05, 8.09452124e-03, 8.76763821e-01, 1.15064673e-01],\n",
       "       [3.26664624e-04, 4.12191749e-02, 9.47831452e-01, 1.06227612e-02],\n",
       "       [1.12673342e-01, 8.76638114e-01, 1.06563047e-02, 3.23221830e-05],\n",
       "       [5.13446666e-02, 9.35816228e-01, 1.28017133e-02, 3.73452604e-05],\n",
       "       [2.54244842e-02, 9.56213176e-01, 1.83080845e-02, 5.42491143e-05],\n",
       "       [8.95093083e-01, 1.03467166e-01, 1.43449497e-03, 5.26582289e-06],\n",
       "       [7.42146894e-02, 9.14719522e-01, 1.10329725e-02, 3.27871967e-05],\n",
       "       [7.87909515e-03, 7.74170160e-01, 2.17216790e-01, 7.33996509e-04],\n",
       "       [8.47032905e-01, 1.50934383e-01, 2.02547270e-03, 7.27771294e-06],\n",
       "       [1.47460003e-06, 9.82539495e-05, 1.42871942e-02, 9.85613048e-01],\n",
       "       [7.24532174e-06, 5.60951652e-04, 7.92754740e-02, 9.20156360e-01],\n",
       "       [8.61933291e-01, 1.36203021e-01, 1.85701461e-03, 6.65575362e-06],\n",
       "       [1.24548824e-04, 1.55312670e-02, 9.66908395e-01, 1.74357798e-02],\n",
       "       [2.52503833e-05, 2.20823148e-03, 3.05800915e-01, 6.91965640e-01],\n",
       "       [6.42344312e-05, 6.39816001e-03, 7.86625266e-01, 2.06912294e-01],\n",
       "       [8.95692222e-03, 8.00283313e-01, 1.90123498e-01, 6.36246579e-04],\n",
       "       [9.62213695e-01, 3.72258797e-02, 5.58229978e-04, 2.15573414e-06],\n",
       "       [5.01886830e-02, 9.37803268e-01, 1.19723827e-02, 3.57073222e-05],\n",
       "       [9.81129467e-01, 1.85783170e-02, 2.91019212e-04, 1.16207411e-06],\n",
       "       [2.34597139e-02, 9.59614158e-01, 1.68779604e-02, 4.82092364e-05],\n",
       "       [1.48388744e-06, 9.89265827e-05, 1.43738892e-02, 9.85525727e-01],\n",
       "       [2.37080436e-02, 9.59643424e-01, 1.65994931e-02, 4.89355480e-05],\n",
       "       [6.42181840e-05, 6.53526466e-03, 8.12928140e-01, 1.80472359e-01],\n",
       "       [5.72424889e-01, 4.22374666e-01, 5.18313842e-03, 1.73785465e-05],\n",
       "       [9.49466646e-01, 4.98000979e-02, 7.30544969e-04, 2.79097958e-06],\n",
       "       [7.92774954e-05, 9.05759819e-03, 9.44124997e-01, 4.67382148e-02],\n",
       "       [9.64874506e-01, 3.46034393e-02, 5.20105299e-04, 2.02146521e-06],\n",
       "       [6.89707231e-05, 7.02635804e-03, 8.11437607e-01, 1.81466997e-01],\n",
       "       [3.38904671e-02, 9.50948536e-01, 1.51168443e-02, 4.41586490e-05],\n",
       "       [1.25226956e-02, 9.15352643e-01, 7.18667954e-02, 2.58001848e-04],\n",
       "       [1.56358238e-02, 9.51022148e-01, 3.32412049e-02, 1.00752150e-04],\n",
       "       [7.06462364e-04, 8.51660594e-02, 9.07548726e-01, 6.57879887e-03],\n",
       "       [9.61602449e-01, 3.78267542e-02, 5.68592281e-04, 2.20625066e-06],\n",
       "       [1.13941402e-04, 1.27873057e-02, 9.50507283e-01, 3.65913659e-02],\n",
       "       [2.63324738e-01, 7.27913976e-01, 8.73378385e-03, 2.75219063e-05],\n",
       "       [1.11180576e-04, 1.28841801e-02, 9.54238534e-01, 3.27661447e-02],\n",
       "       [5.73642313e-01, 4.21001941e-01, 5.33766067e-03, 1.80251027e-05],\n",
       "       [1.34854668e-06, 8.88789291e-05, 1.29292440e-02, 9.86980498e-01],\n",
       "       [5.09486534e-03, 5.26862621e-01, 4.66012359e-01, 2.03025248e-03],\n",
       "       [3.26453096e-06, 2.35253232e-04, 3.37744877e-02, 9.65987027e-01],\n",
       "       [8.21782392e-04, 1.05316617e-01, 8.88420820e-01, 5.44079207e-03],\n",
       "       [9.72586513e-01, 2.69993879e-02, 4.12479567e-04, 1.62494473e-06],\n",
       "       [3.59374530e-06, 2.60263478e-04, 3.77561711e-02, 9.61979926e-01],\n",
       "       [7.01884564e-04, 8.79232362e-02, 9.05155480e-01, 6.21942617e-03],\n",
       "       [6.94657207e-01, 3.01487744e-01, 3.84183903e-03, 1.31683992e-05],\n",
       "       [9.74137306e-01, 2.54692100e-02, 3.91903886e-04, 1.54313580e-06],\n",
       "       [1.20290815e-05, 9.67260858e-04, 1.34679019e-01, 8.64341795e-01],\n",
       "       [3.95550653e-02, 9.47412252e-01, 1.29940994e-02, 3.86517204e-05],\n",
       "       [8.89642433e-06, 6.97062991e-04, 9.95860323e-02, 8.99708033e-01],\n",
       "       [3.67174625e-01, 6.25382125e-01, 7.41975987e-03, 2.35806274e-05],\n",
       "       [1.22865958e-06, 8.01140122e-05, 1.16578583e-02, 9.88260806e-01],\n",
       "       [3.90831381e-01, 6.01984143e-01, 7.16115767e-03, 2.33992378e-05],\n",
       "       [9.75267470e-01, 2.43556220e-02, 3.75400356e-04, 1.48247284e-06],\n",
       "       [3.21689140e-06, 2.31320082e-04, 3.31796706e-02, 9.66585755e-01],\n",
       "       [8.58665444e-03, 7.78551877e-01, 2.12112933e-01, 7.48599763e-04],\n",
       "       [3.09498546e-06, 2.21141832e-04, 3.18932496e-02, 9.67882454e-01],\n",
       "       [2.56907424e-05, 2.19766796e-03, 3.04167360e-01, 6.93609238e-01],\n",
       "       [1.11559257e-06, 7.18969750e-05, 1.04662115e-02, 9.89460647e-01],\n",
       "       [4.93707433e-02, 9.38488722e-01, 1.21039320e-02, 3.66299719e-05],\n",
       "       [9.65211987e-01, 3.42699587e-02, 5.16036118e-04, 2.00506565e-06],\n",
       "       [3.50435698e-06, 2.53392442e-04, 3.66341174e-02, 9.63109016e-01],\n",
       "       [8.61023128e-01, 1.37094423e-01, 1.87563337e-03, 6.77927528e-06],\n",
       "       [1.22755346e-05, 9.78890341e-04, 1.39811829e-01, 8.59197080e-01],\n",
       "       [9.78942275e-01, 2.07338613e-02, 3.22512729e-04, 1.28313684e-06],\n",
       "       [1.80140210e-04, 2.24588476e-02, 9.65719104e-01, 1.16418647e-02],\n",
       "       [6.06345711e-03, 6.01422966e-01, 3.90932977e-01, 1.58066233e-03],\n",
       "       [2.11383682e-02, 9.56271648e-01, 2.25176923e-02, 7.23200646e-05],\n",
       "       [1.72153450e-04, 2.19821893e-02, 9.67928350e-01, 9.91732907e-03],\n",
       "       [9.57697749e-01, 4.16777469e-02, 6.22101536e-04, 2.40246663e-06],\n",
       "       [5.79829849e-02, 9.30795550e-01, 1.11890556e-02, 3.24347202e-05],\n",
       "       [3.98382836e-04, 5.16265407e-02, 9.41516757e-01, 6.45845616e-03],\n",
       "       [1.27458964e-02, 9.33137894e-01, 5.39433844e-02, 1.72862143e-04],\n",
       "       [1.10960044e-02, 9.13077295e-01, 7.55863488e-02, 2.40313326e-04],\n",
       "       [9.77120161e-01, 2.25298051e-02, 3.48663452e-04, 1.38161943e-06],\n",
       "       [3.18883806e-01, 6.73279583e-01, 7.81198638e-03, 2.47251974e-05],\n",
       "       [9.68169093e-01, 3.13539617e-02, 4.75164328e-04, 1.85293322e-06],\n",
       "       [1.90738501e-04, 2.47330889e-02, 9.64897335e-01, 1.01788919e-02],\n",
       "       [3.48153641e-03, 4.02683288e-01, 5.91453314e-01, 2.38181045e-03],\n",
       "       [3.42792350e-06, 2.47042888e-04, 3.56954560e-02, 9.64054048e-01],\n",
       "       [3.70742709e-05, 3.34982341e-03, 4.30785954e-01, 5.65827250e-01],\n",
       "       [1.62135690e-01, 8.28167081e-01, 9.66781843e-03, 2.94446672e-05],\n",
       "       [6.85613577e-06, 5.29814861e-04, 7.49790594e-02, 9.24484313e-01],\n",
       "       [2.61470973e-06, 1.84254663e-04, 2.66530905e-02, 9.73160148e-01],\n",
       "       [8.45854927e-04, 1.06365800e-01, 8.87981772e-01, 4.80659539e-03],\n",
       "       [9.78669763e-01, 2.10020393e-02, 3.26912676e-04, 1.29887235e-06],\n",
       "       [4.60620822e-06, 3.41628445e-04, 4.92445119e-02, 9.50409293e-01],\n",
       "       [1.90625538e-03, 2.38590822e-01, 7.56119609e-01, 3.38329212e-03],\n",
       "       [1.39476219e-06, 9.22294421e-05, 1.34261642e-02, 9.86480296e-01],\n",
       "       [1.24521205e-06, 8.13592706e-05, 1.18433051e-02, 9.88074005e-01],\n",
       "       [2.46055163e-02, 9.59033787e-01, 1.63127705e-02, 4.78482798e-05],\n",
       "       [9.66017723e-01, 3.34747694e-02, 5.05527132e-04, 1.96642532e-06],\n",
       "       [2.90653261e-04, 3.61736156e-02, 9.53984141e-01, 9.55152418e-03],\n",
       "       [2.16649119e-06, 1.50147156e-04, 2.17038896e-02, 9.78143811e-01],\n",
       "       [1.89266559e-02, 9.60983098e-01, 2.00295094e-02, 6.07621696e-05],\n",
       "       [1.07168453e-02, 8.81668925e-01, 1.07266240e-01, 3.48047295e-04],\n",
       "       [8.79103601e-01, 1.19264282e-01, 1.62627222e-03, 5.89842148e-06],\n",
       "       [9.72756028e-01, 2.68320721e-02, 4.10229346e-04, 1.61713047e-06],\n",
       "       [9.79973316e-01, 1.97173879e-02, 3.08016490e-04, 1.22675442e-06],\n",
       "       [9.60777700e-01, 3.86455320e-02, 5.74497739e-04, 2.21714549e-06],\n",
       "       [1.12576936e-06, 7.26446888e-05, 1.05745001e-02, 9.89351690e-01],\n",
       "       [9.33596492e-01, 6.54640794e-02, 9.35923599e-04, 3.51257427e-06],\n",
       "       [8.95175576e-01, 1.03387229e-01, 1.43199228e-03, 5.25569385e-06],\n",
       "       [2.08840302e-05, 1.75674807e-03, 2.39333674e-01, 7.58888662e-01],\n",
       "       [2.44465264e-05, 2.08113645e-03, 2.88119137e-01, 7.09775329e-01],\n",
       "       [1.61539484e-02, 9.58090782e-01, 2.56790593e-02, 7.61701158e-05],\n",
       "       [9.70139027e-01, 2.94124782e-02, 4.46784252e-04, 1.75235937e-06],\n",
       "       [2.94269125e-06, 2.10141370e-04, 3.03233061e-02, 9.69463646e-01],\n",
       "       [9.11365271e-01, 8.73854905e-02, 1.24463567e-03, 4.61755099e-06],\n",
       "       [9.78894591e-01, 2.07803529e-02, 3.23687302e-04, 1.28662282e-06],\n",
       "       [1.35340914e-03, 1.64612263e-01, 8.29662561e-01, 4.37177392e-03],\n",
       "       [4.42921549e-01, 5.50409138e-01, 6.64762734e-03, 2.17485504e-05],\n",
       "       [2.55490653e-02, 9.57246661e-01, 1.71517711e-02, 5.24416646e-05],\n",
       "       [9.73006964e-01, 2.65835598e-02, 4.07971558e-04, 1.60174272e-06],\n",
       "       [1.13766509e-06, 7.34939749e-05, 1.06984694e-02, 9.89226937e-01],\n",
       "       [7.92182109e-05, 8.90305452e-03, 9.40007627e-01, 5.10101058e-02],\n",
       "       [7.81078852e-05, 8.09426792e-03, 8.62544715e-01, 1.29282907e-01],\n",
       "       [2.26309821e-02, 9.55546081e-01, 2.17557494e-02, 6.72184979e-05],\n",
       "       [5.77718802e-02, 9.29992437e-01, 1.21993218e-02, 3.63806757e-05],\n",
       "       [2.22281574e-06, 1.54842535e-04, 2.25027110e-02, 9.77340221e-01]],\n",
       "      dtype=float32)"
      ]
     },
     "execution_count": 32,
     "metadata": {},
     "output_type": "execute_result"
    }
   ],
   "source": [
    "y_pred = mod1.predict(X_test) # returns prediction outputs as softmax\n",
    "y_pred"
   ]
  },
  {
   "cell_type": "code",
   "execution_count": 21,
   "id": "5dff7bb0-03f9-43aa-aa6e-babcbfc68485",
   "metadata": {},
   "outputs": [],
   "source": [
    "#Converting predictions to label\n",
    "pred = list()\n",
    "for i in range(len(y_pred)):\n",
    "    pred.append(np.argmax(y_pred[i]))\n",
    "    \n",
    "#Converting one hot encoded test label to label\n",
    "test = list()\n",
    "for i in range(len(y_test)):\n",
    "    test.append(np.argmax(y_test[i]))"
   ]
  },
  {
   "cell_type": "code",
   "execution_count": 22,
   "id": "6b137b47-fe56-4499-bacb-6316dc1da41b",
   "metadata": {},
   "outputs": [
    {
     "name": "stdout",
     "output_type": "stream",
     "text": [
      "Accuracy is: 96.5 %\n"
     ]
    }
   ],
   "source": [
    "from sklearn.metrics import accuracy_score\n",
    "a =accuracy_score(pred,test)\n",
    "print('Accuracy is:', a*100, '%')"
   ]
  },
  {
   "cell_type": "markdown",
   "id": "143c34a2-0872-478c-99d0-c2ccd011c482",
   "metadata": {
    "tags": []
   },
   "source": [
    "## Train with validation data"
   ]
  },
  {
   "cell_type": "code",
   "execution_count": 23,
   "id": "9fb09aae-c58c-405d-8ff1-b3f29f0e316e",
   "metadata": {},
   "outputs": [],
   "source": [
    "mod2 = Sequential() # allows us to add layers to our NN sequentially\n",
    "mod2.add(Dense(16, input_dim=numInputs, activation='sigmoid')) # first hidden layer, 16 units\n",
    "mod2.add(Dense(12, activation='sigmoid')) # second hidden layer, 12 units (will determine input dimension from previous layer)\n",
    "mod2.add(Dense(numOutputs, activation='softmax')) # output layer\n",
    "mod2.compile(loss='categorical_crossentropy', optimizer=\"adam\", metrics=['accuracy'])"
   ]
  },
  {
   "cell_type": "code",
   "execution_count": 24,
   "id": "5f28118e-7405-4720-9201-a7ebcb8e15d9",
   "metadata": {},
   "outputs": [
    {
     "name": "stderr",
     "output_type": "stream",
     "text": [
      "2022-09-30 16:10:36.892749: I tensorflow/core/grappler/optimizers/custom_graph_optimizer_registry.cc:113] Plugin optimizer for device_type GPU is enabled.\n",
      "2022-09-30 16:10:37.210039: I tensorflow/core/grappler/optimizers/custom_graph_optimizer_registry.cc:113] Plugin optimizer for device_type GPU is enabled.\n"
     ]
    }
   ],
   "source": [
    "hist2 = mod2.fit(X_train, y_train,validation_data = (X_test,y_test), epochs=100, batch_size=64, verbose =0)"
   ]
  },
  {
   "cell_type": "code",
   "execution_count": 25,
   "id": "5656e2fe-e9c2-4385-9533-9008c709bf18",
   "metadata": {},
   "outputs": [
    {
     "data": {
      "image/png": "[encoded data removed]",
      "text/plain": [
       "<Figure size 640x480 with 1 Axes>"
      ]
     },
     "metadata": {},
     "output_type": "display_data"
    }
   ],
   "source": [
    "plt.plot(hist2.history['accuracy'])\n",
    "plt.plot(hist2.history['val_accuracy'])\n",
    "plt.title('Model accuracy')\n",
    "plt.ylabel('Accuracy')\n",
    "plt.xlabel('Epoch')\n",
    "plt.legend(['Train', 'Test'], loc='upper left')\n",
    "plt.show()"
   ]
  },
  {
   "cell_type": "code",
   "execution_count": 26,
   "id": "06ab88ef-0bfe-4744-aad2-d40391238537",
   "metadata": {},
   "outputs": [
    {
     "data": {
      "image/png": "[encoded data removed]",
      "text/plain": [
       "<Figure size 640x480 with 1 Axes>"
      ]
     },
     "metadata": {},
     "output_type": "display_data"
    }
   ],
   "source": [
    "plt.plot(hist2.history['loss']) \n",
    "plt.plot(hist2.history['val_loss']) \n",
    "plt.title('Model loss') \n",
    "plt.ylabel('Loss') \n",
    "plt.xlabel('Epoch') \n",
    "plt.legend(['Train', 'Test'], loc='upper left') \n",
    "plt.show()"
   ]
  },
  {
   "cell_type": "markdown",
   "id": "2cdaa7fd-e85c-4d09-92a1-1c013aa8471f",
   "metadata": {
    "tags": []
   },
   "source": [
    "## View Weights and Biases"
   ]
  },
  {
   "cell_type": "code",
   "execution_count": 27,
   "id": "e8e66bcd-065e-4b6b-8d02-ff30079aead5",
   "metadata": {},
   "outputs": [],
   "source": [
    "weights, biases = mod2.layers[0].get_weights()"
   ]
  },
  {
   "cell_type": "code",
   "execution_count": 28,
   "id": "d11f3b60-ef9c-4b4d-8402-946e39a58a94",
   "metadata": {},
   "outputs": [
    {
     "data": {
      "text/plain": [
       "(20, 16)"
      ]
     },
     "execution_count": 28,
     "metadata": {},
     "output_type": "execute_result"
    }
   ],
   "source": [
    "weights.shape"
   ]
  },
  {
   "cell_type": "code",
   "execution_count": 29,
   "id": "147b5483-aa11-4381-8310-ad44afaa235d",
   "metadata": {},
   "outputs": [
    {
     "data": {
      "text/plain": [
       "(16,)"
      ]
     },
     "execution_count": 29,
     "metadata": {},
     "output_type": "execute_result"
    }
   ],
   "source": [
    "biases.shape"
   ]
  },
  {
   "cell_type": "code",
   "execution_count": null,
   "id": "688e92a6-472d-4697-ba63-2a4f802f11e0",
   "metadata": {
    "collapsed": true,
    "jupyter": {
     "outputs_hidden": true
    }
   },
   "outputs": [],
   "source": []
  }
 ],
 "metadata": {
  "kernelspec": {
   "display_name": "Python 3 (ipykernel)",
   "language": "python",
   "name": "python3"
  },
  "language_info": {
   "codemirror_mode": {
    "name": "ipython",
    "version": 3
   },
   "file_extension": ".py",
   "mimetype": "text/x-python",
   "name": "python",
   "nbconvert_exporter": "python",
   "pygments_lexer": "ipython3",
   "version": "3.9.7"
  }
 },
 "nbformat": 4,
 "nbformat_minor": 5
}
